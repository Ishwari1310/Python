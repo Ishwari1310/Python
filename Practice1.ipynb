{
 "cells": [
  {
   "cell_type": "code",
   "execution_count": 1,
   "id": "a50a70dc",
   "metadata": {},
   "outputs": [
    {
     "name": "stdout",
     "output_type": "stream",
     "text": [
      "    1 \n",
      "  * * \n",
      "2 3 4 \n",
      "    * \n",
      "  5 6 \n",
      "* * * \n"
     ]
    }
   ],
   "source": [
    "## Write a program to print the following pattern:\n",
    "'''\n",
    "    1\n",
    "  * *\n",
    "2 3 4\n",
    "    *\n",
    "  5 6\n",
    "* * *\n",
    "\n",
    "'''\n",
    "\n",
    "\n",
    "def print_pattern():\n",
    "    for i in range(1, 7):\n",
    "        if i == 1:\n",
    "            print(\"    1\",end=\" \")           \n",
    "        elif i == 2:\n",
    "            print(\"  * *\",end=\" \")          \n",
    "        elif i == 3:\n",
    "            print(\"2 3 4\",end=\" \")          \n",
    "        elif i == 4:\n",
    "            print(\"    *\",end=\" \")          \n",
    "        elif i == 5:\n",
    "            print(\"  5 6\",end=\" \")          \n",
    "        else:\n",
    "            print(\"* * *\",end=\" \") \n",
    "        print()         \n",
    "\n",
    "print_pattern()"
   ]
  },
  {
   "cell_type": "code",
   "execution_count": 2,
   "id": "5a03006c",
   "metadata": {},
   "outputs": [
    {
     "name": "stdout",
     "output_type": "stream",
     "text": [
      "you have 10 years left to work\n"
     ]
    }
   ],
   "source": [
    "\"\"\"\n",
    "take age when user has started a job as a input from user\n",
    "if age<18 or age>60 raise error\n",
    "else find out how many year time have for doing job\n",
    "\n",
    "\"\"\"\n",
    "def job_duration():\n",
    "    try:\n",
    "        age = int(input(\"Enter your age when you started the job:\"))\n",
    "        \n",
    "        if age<18 or age>60:\n",
    "            raise ValueError(\"Age must be between 18 and 60 to start a job\")\n",
    "        \n",
    "        Remaining_year = 60-age\n",
    "        print(f\"you have {Remaining_year} years left to work\")\n",
    "    except ValueError as e:\n",
    "        print(f\"Error: {e}\")\n",
    "\n",
    "job_duration()\n",
    "\n",
    "\n"
   ]
  }
 ],
 "metadata": {
  "kernelspec": {
   "display_name": "Python 3",
   "language": "python",
   "name": "python3"
  },
  "language_info": {
   "codemirror_mode": {
    "name": "ipython",
    "version": 3
   },
   "file_extension": ".py",
   "mimetype": "text/x-python",
   "name": "python",
   "nbconvert_exporter": "python",
   "pygments_lexer": "ipython3",
   "version": "3.13.1"
  }
 },
 "nbformat": 4,
 "nbformat_minor": 5
}
